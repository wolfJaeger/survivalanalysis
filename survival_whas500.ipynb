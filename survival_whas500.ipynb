{
 "cells": [
  {
   "cell_type": "markdown",
   "id": "e9490648-03da-490c-9a0c-1fa470e7c020",
   "metadata": {},
   "source": [
    "# Survivalanalysis (Ereigniszeitanalyse)\n",
    "\n",
    "Die Survivalanalysis ist eine statistische Methode, welche dazu verwendet wird, die Zeit bis einem Ereignis abzuschätzen.\n",
    "Das klassische Anwendungsgebiet ist hierbei die Medizin- sowie Sozialforschung. Anwendung findet die Survivalanlysis jedoch auch in Ingenieursdiziplinen z.B. bezüglich Materialermüdung. \n",
    "\n",
    "Siehe auch: https://de.wikipedia.org/wiki/Ereigniszeitanalyse\n",
    "\n",
    "Eine sehr gute Einführung gibt es in der Dokumentation der Python-Bibliothek **lifelines**\n",
    "https://lifelines.readthedocs.io/en/latest/Survival%20Analysis%20intro.html\n",
    "\n",
    "Eine Umsetzung in Python bieten die zwei Bibliotheken **lifelines** sowie **scikit-survival** (diese hatte ich bei der Bearbeitung des Themas gefunden).\n",
    "\n",
    "Im folgenden wird die Bibilothek **lifelines**  vewendet.\n",
    "\n",
    "Weitere aus meiner Sicht gute Quellen zum Thema sind:\n",
    "- https://statsandr.com/blog/what-is-survival-analysis/\n",
    "- https://datatab.de/tutorial/survival-analysis\n",
    "- https://de.wikipedia.org/wiki/Ereigniszeitanalyse\n",
    "- https://de.wikipedia.org/wiki/Kaplan-Meier-Sch%C3%A4tzer\n",
    "- https://de.wikipedia.org/wiki/Cox-Regression\n",
    "- https://www.geeksforgeeks.org/artificial-intelligence/survival-analysis-models-and-applications/\n",
    "- https://www.statology.org/how-to-perform-survival-analysis-r-example/\n"
   ]
  },
  {
   "cell_type": "code",
   "execution_count": 2,
   "id": "0ab3b141-bc53-4aa3-b8ad-2764b545062a",
   "metadata": {
    "jupyter": {
     "source_hidden": true
    }
   },
   "outputs": [],
   "source": [
    "import pandas as pd\n",
    "import matplotlib.pyplot as plt\n",
    "from lifelines.plotting import plot_lifetimes\n",
    "from lifelines import KaplanMeierFitter\n"
   ]
  },
  {
   "cell_type": "markdown",
   "id": "1d57637e-120b-4d8d-8dac-7b185779845f",
   "metadata": {},
   "source": [
    "## Worcester Heart Attack Study\n",
    "Die hier verwendeten Daten basieren auf einer Studie zur Untersuchung von Faktoren, welche einfluss auf das Überleben nach einem Herzinfarkt haben. Die Datenbasis umfasst hierbei im vollständigen Original Einträge zwischen 1975 bis 2005.\n",
    "Siehe auch: https://www.ahajournals.org/doi/pdf/10.1161/CIRCOUTCOMES.108.811828\n",
    "In den hier durchgeführten Analysen wird jedoch nur ein Auszug mit 500 Einträgen verwedet.\n",
    "\n",
    "Dieser Datensatz wird in vielen Einführungen als Demo verwendet und ist auch in Bibliotheken für Python sowie R verfügbar. Siehe:\n",
    "https://scikit-survival.readthedocs.io/en/stable/api/generated/sksurv.datasets.load_whas500.html\n",
    "https://search.r-project.org/CRAN/refmans/smoothHR/html/whas500.html"
   ]
  },
  {
   "cell_type": "code",
   "execution_count": 3,
   "id": "3e672f06-49a7-4daa-aad6-cd1b0353fe7d",
   "metadata": {
    "jupyter": {
     "source_hidden": true
    }
   },
   "outputs": [],
   "source": [
    "plt.style.use('ggplot') # Ein bisschen R feeling. :)\n",
    "pd.set_option('display.max_columns', 22) # Das dataset hat 22 spalten"
   ]
  },
  {
   "cell_type": "code",
   "execution_count": 4,
   "id": "cff16320-57ba-4f34-be1d-74b25c721a54",
   "metadata": {},
   "outputs": [],
   "source": [
    "whas500 = pd.read_csv('data/whas500.csv')"
   ]
  },
  {
   "cell_type": "code",
   "execution_count": 5,
   "id": "bd741cb4-d6ef-4caa-9e5b-1298b47416fe",
   "metadata": {},
   "outputs": [
    {
     "data": {
      "text/html": [
       "<div>\n",
       "<style scoped>\n",
       "    .dataframe tbody tr th:only-of-type {\n",
       "        vertical-align: middle;\n",
       "    }\n",
       "\n",
       "    .dataframe tbody tr th {\n",
       "        vertical-align: top;\n",
       "    }\n",
       "\n",
       "    .dataframe thead th {\n",
       "        text-align: right;\n",
       "    }\n",
       "</style>\n",
       "<table border=\"1\" class=\"dataframe\">\n",
       "  <thead>\n",
       "    <tr style=\"text-align: right;\">\n",
       "      <th></th>\n",
       "      <th>id</th>\n",
       "      <th>age</th>\n",
       "      <th>gender</th>\n",
       "      <th>hr</th>\n",
       "      <th>sysbp</th>\n",
       "      <th>diasbp</th>\n",
       "      <th>bmi</th>\n",
       "      <th>cvd</th>\n",
       "      <th>afb</th>\n",
       "      <th>sho</th>\n",
       "      <th>chf</th>\n",
       "      <th>av3</th>\n",
       "      <th>miord</th>\n",
       "      <th>mitype</th>\n",
       "      <th>year</th>\n",
       "      <th>admitdate</th>\n",
       "      <th>disdate</th>\n",
       "      <th>fdate</th>\n",
       "      <th>los</th>\n",
       "      <th>dstat</th>\n",
       "      <th>lenfol</th>\n",
       "      <th>fstat</th>\n",
       "    </tr>\n",
       "  </thead>\n",
       "  <tbody>\n",
       "    <tr>\n",
       "      <th>0</th>\n",
       "      <td>1</td>\n",
       "      <td>83</td>\n",
       "      <td>0</td>\n",
       "      <td>89</td>\n",
       "      <td>152</td>\n",
       "      <td>78</td>\n",
       "      <td>25.54051</td>\n",
       "      <td>1</td>\n",
       "      <td>1</td>\n",
       "      <td>0</td>\n",
       "      <td>0</td>\n",
       "      <td>0</td>\n",
       "      <td>1</td>\n",
       "      <td>0</td>\n",
       "      <td>1</td>\n",
       "      <td>1/13/1997</td>\n",
       "      <td>1/18/1997</td>\n",
       "      <td>12/31/2002</td>\n",
       "      <td>5</td>\n",
       "      <td>0</td>\n",
       "      <td>2178</td>\n",
       "      <td>0</td>\n",
       "    </tr>\n",
       "    <tr>\n",
       "      <th>1</th>\n",
       "      <td>2</td>\n",
       "      <td>49</td>\n",
       "      <td>0</td>\n",
       "      <td>84</td>\n",
       "      <td>120</td>\n",
       "      <td>60</td>\n",
       "      <td>24.02398</td>\n",
       "      <td>1</td>\n",
       "      <td>0</td>\n",
       "      <td>0</td>\n",
       "      <td>0</td>\n",
       "      <td>0</td>\n",
       "      <td>0</td>\n",
       "      <td>1</td>\n",
       "      <td>1</td>\n",
       "      <td>1/19/1997</td>\n",
       "      <td>1/24/1997</td>\n",
       "      <td>12/31/2002</td>\n",
       "      <td>5</td>\n",
       "      <td>0</td>\n",
       "      <td>2172</td>\n",
       "      <td>0</td>\n",
       "    </tr>\n",
       "    <tr>\n",
       "      <th>2</th>\n",
       "      <td>3</td>\n",
       "      <td>70</td>\n",
       "      <td>1</td>\n",
       "      <td>83</td>\n",
       "      <td>147</td>\n",
       "      <td>88</td>\n",
       "      <td>22.14290</td>\n",
       "      <td>0</td>\n",
       "      <td>0</td>\n",
       "      <td>0</td>\n",
       "      <td>0</td>\n",
       "      <td>0</td>\n",
       "      <td>0</td>\n",
       "      <td>1</td>\n",
       "      <td>1</td>\n",
       "      <td>1/1/1997</td>\n",
       "      <td>1/6/1997</td>\n",
       "      <td>12/31/2002</td>\n",
       "      <td>5</td>\n",
       "      <td>0</td>\n",
       "      <td>2190</td>\n",
       "      <td>0</td>\n",
       "    </tr>\n",
       "    <tr>\n",
       "      <th>3</th>\n",
       "      <td>4</td>\n",
       "      <td>70</td>\n",
       "      <td>0</td>\n",
       "      <td>65</td>\n",
       "      <td>123</td>\n",
       "      <td>76</td>\n",
       "      <td>26.63187</td>\n",
       "      <td>1</td>\n",
       "      <td>0</td>\n",
       "      <td>0</td>\n",
       "      <td>1</td>\n",
       "      <td>0</td>\n",
       "      <td>0</td>\n",
       "      <td>1</td>\n",
       "      <td>1</td>\n",
       "      <td>2/17/1997</td>\n",
       "      <td>2/27/1997</td>\n",
       "      <td>12/11/1997</td>\n",
       "      <td>10</td>\n",
       "      <td>0</td>\n",
       "      <td>297</td>\n",
       "      <td>1</td>\n",
       "    </tr>\n",
       "    <tr>\n",
       "      <th>4</th>\n",
       "      <td>5</td>\n",
       "      <td>70</td>\n",
       "      <td>0</td>\n",
       "      <td>63</td>\n",
       "      <td>135</td>\n",
       "      <td>85</td>\n",
       "      <td>24.41255</td>\n",
       "      <td>1</td>\n",
       "      <td>0</td>\n",
       "      <td>0</td>\n",
       "      <td>0</td>\n",
       "      <td>0</td>\n",
       "      <td>0</td>\n",
       "      <td>1</td>\n",
       "      <td>1</td>\n",
       "      <td>3/1/1997</td>\n",
       "      <td>3/7/1997</td>\n",
       "      <td>12/31/2002</td>\n",
       "      <td>6</td>\n",
       "      <td>0</td>\n",
       "      <td>2131</td>\n",
       "      <td>0</td>\n",
       "    </tr>\n",
       "  </tbody>\n",
       "</table>\n",
       "</div>"
      ],
      "text/plain": [
       "   id  age  gender  hr  sysbp  diasbp       bmi  cvd  afb  sho  chf  av3  \\\n",
       "0   1   83       0  89    152      78  25.54051    1    1    0    0    0   \n",
       "1   2   49       0  84    120      60  24.02398    1    0    0    0    0   \n",
       "2   3   70       1  83    147      88  22.14290    0    0    0    0    0   \n",
       "3   4   70       0  65    123      76  26.63187    1    0    0    1    0   \n",
       "4   5   70       0  63    135      85  24.41255    1    0    0    0    0   \n",
       "\n",
       "   miord  mitype  year  admitdate    disdate       fdate  los  dstat  lenfol  \\\n",
       "0      1       0     1  1/13/1997  1/18/1997  12/31/2002    5      0    2178   \n",
       "1      0       1     1  1/19/1997  1/24/1997  12/31/2002    5      0    2172   \n",
       "2      0       1     1   1/1/1997   1/6/1997  12/31/2002    5      0    2190   \n",
       "3      0       1     1  2/17/1997  2/27/1997  12/11/1997   10      0     297   \n",
       "4      0       1     1   3/1/1997   3/7/1997  12/31/2002    6      0    2131   \n",
       "\n",
       "   fstat  \n",
       "0      0  \n",
       "1      0  \n",
       "2      0  \n",
       "3      1  \n",
       "4      0  "
      ]
     },
     "execution_count": 5,
     "metadata": {},
     "output_type": "execute_result"
    }
   ],
   "source": [
    "whas500.head()"
   ]
  },
  {
   "cell_type": "markdown",
   "id": "ca277eb1-2138-4754-b307-d38442272834",
   "metadata": {},
   "source": [
    "Beschreibung: \n",
    "https://web.archive.org/web/20170517071528/http://www.umass.edu/statdata/statdata/data/whas500.txt\n",
    "\n",
    "(ftp//ftp.wiley.com/public/sci_tech_med/survival)\n",
    "\n",
    "| Variable |\tName\t| Description\t\t|        Codes / Values |\n",
    "|----------|------------|-------------------|-----------------------|\n",
    "|1\t\t|id\t\t|Identification Number\t\t\t|1 - 500|\n",
    "|2\t\t|age\t\t|Age at Hospital Admission\t\t|Years|\n",
    "|3 \t\t|gender\t\t|Gender \t\t\t\t\t|0 = Male, 1 = Female|\n",
    "|4 \t\t|hr\t\t|Initial Heart Rate\t\t\t|Beats per minute|\n",
    "|5\t\t|sysbp\t\t|Initial Systolic Blood Pressure| \tmmHg|\n",
    "|6\t\t|diasbp\t\t|Initial Diastolic Blood Pressure|\tmmHg|\n",
    "|7 \t\t|bmi\t\t|Body Mass Index\t\t\t \t|kg/m^2|\n",
    "|8\t\t|cvd\t\t|History of Cardiovascular Disease\t|0 = No, 1 = Yes|\t\t\t\t\t\t\n",
    "|9\t\t|afb\t\t|Atrial Fibrillation\t\t\t|0 = No, 1 = Yes\t|\t\t\t\t\t\n",
    "|10\t\t|sho\t\t|Cardiogenic Shock\t\t\t|0 = No, 1 = Yes\t\t|\t\t\t\t\n",
    "|11\t\t|chf\t\t|Congestive Heart Complications\t\t|0 = No, 1 = Yes\t|\t\t\t\t\t\n",
    "|12\t\t|av3\t\t|Complete Heart Block\t\t\t|0 = No, 1 = Yes\t|\t\t\t\n",
    "|13\t\t|miord\t\t|MI Order \t\t\t\t|0 = First, 1 = Recurrent|\n",
    "|14\t\t|mitype\t\t|MI Type \t\t\t\t|0 = non Q-wave, 1 = Q-wave|\n",
    "|15\t\t|year\t\t|Cohort Year\t\t\t|\t1 = 1997, 2 = 1999, 3 = 2001|\t\t\t\t\n",
    "|16\t\t|admitdate\t|Hospital Admission Date |\t\tmm/dd/yyyy|\n",
    "|17\t\t|disdate\t|\tHospital Discharge Date| \t\tmm/dd/yyyy|\n",
    "|18\t\t|fdate\t\t|Date of last Follow Up \t|\t\tmm/dd/yyyy|\n",
    "|19\t\t|los\t\t|Length of Hospital Stay\t|\t\tDays from Hospital Admission to Hospital Discharge|\n",
    "|20 \t|\tdstat\t|\tDischarge Status from Hospital\t\t|0 = Alive, 1 = Dead|\n",
    "|**21**\t\t| **lenfol**\t\t|**Total Length of Follow-up**\t|**Days from Hospital Admission Date to Date of Last Follow-up** |\n",
    "|**22**\t| **fstat**\t\t|**Vital Status at Last Follow-up**\t|**0 = Alive 1 = Dead**|"
   ]
  },
  {
   "cell_type": "code",
   "execution_count": 65,
   "id": "2f4861c0-06ab-4a1a-a0da-e52b5da9e3fb",
   "metadata": {},
   "outputs": [
    {
     "name": "stdout",
     "output_type": "stream",
     "text": [
      "<class 'pandas.core.frame.DataFrame'>\n",
      "RangeIndex: 500 entries, 0 to 499\n",
      "Data columns (total 22 columns):\n",
      " #   Column     Non-Null Count  Dtype  \n",
      "---  ------     --------------  -----  \n",
      " 0   id         500 non-null    int64  \n",
      " 1   age        500 non-null    int64  \n",
      " 2   gender     500 non-null    int64  \n",
      " 3   hr         500 non-null    int64  \n",
      " 4   sysbp      500 non-null    int64  \n",
      " 5   diasbp     500 non-null    int64  \n",
      " 6   bmi        500 non-null    float64\n",
      " 7   cvd        500 non-null    int64  \n",
      " 8   afb        500 non-null    int64  \n",
      " 9   sho        500 non-null    int64  \n",
      " 10  chf        500 non-null    int64  \n",
      " 11  av3        500 non-null    int64  \n",
      " 12  miord      500 non-null    int64  \n",
      " 13  mitype     500 non-null    int64  \n",
      " 14  year       500 non-null    int64  \n",
      " 15  admitdate  500 non-null    object \n",
      " 16  disdate    500 non-null    object \n",
      " 17  fdate      500 non-null    object \n",
      " 18  los        500 non-null    int64  \n",
      " 19  dstat      500 non-null    int64  \n",
      " 20  lenfol     500 non-null    int64  \n",
      " 21  fstat      500 non-null    int64  \n",
      "dtypes: float64(1), int64(18), object(3)\n",
      "memory usage: 86.1+ KB\n"
     ]
    }
   ],
   "source": [
    "whas500.info()"
   ]
  },
  {
   "cell_type": "code",
   "execution_count": 66,
   "id": "bc6cc905-ac2c-4882-acf0-b37ed707417c",
   "metadata": {
    "jupyter": {
     "source_hidden": true
    }
   },
   "outputs": [
    {
     "name": "stdout",
     "output_type": "stream",
     "text": [
      "Daten umfassen (bzgl. des Aufnahmedatums) die Jahre 1/1/1997 bis 9/9/2001.\n",
      "Die Patienten sind bei ihrer Aufnahme zwischen 30 und 104 Jahre alt.\n"
     ]
    }
   ],
   "source": [
    "min_admitdate = whas500['admitdate'].min()\n",
    "max_admitdate = whas500['admitdate'].max()\n",
    "min_patient_age = whas500['age'].min()\n",
    "max_patient_age = whas500['age'].max()\n",
    "print(f'Daten umfassen (bzgl. des Aufnahmedatums) die Jahre {min_admitdate} bis {max_admitdate}.')\n",
    "print(f'Die Patienten sind bei ihrer Aufnahme zwischen {min_patient_age} und {max_patient_age} Jahre alt.')"
   ]
  },
  {
   "cell_type": "code",
   "execution_count": 67,
   "id": "1f6bf655-25bc-4b9e-9099-6da66a1c75e7",
   "metadata": {
    "jupyter": {
     "source_hidden": true
    }
   },
   "outputs": [
    {
     "data": {
      "text/plain": [
       "Text(0.5, 0, 'Alter in Jahren')"
      ]
     },
     "execution_count": 67,
     "metadata": {},
     "output_type": "execute_result"
    },
    {
     "data": {
      "image/png": "[encoded data removed]",
      "text/plain": [
       "<Figure size 640x480 with 1 Axes>"
      ]
     },
     "metadata": {},
     "output_type": "display_data"
    }
   ],
   "source": [
    "ax = whas500['age'].hist()\n",
    "ax.set_title('Verteilung des Alters der Patienten bei Erstaufnahme ins KH')\n",
    "ax.set_ylabel('Anzahl')\n",
    "ax.set_xlabel('Alter in Jahren')"
   ]
  },
  {
   "cell_type": "code",
   "execution_count": 68,
   "id": "06c8637b-8681-4edb-97b6-a66dfb5648e8",
   "metadata": {
    "jupyter": {
     "source_hidden": true
    }
   },
   "outputs": [
    {
     "data": {
      "text/plain": [
       "[Text(0, 0, 'Tot'), Text(1, 0, 'Lebendig')]"
      ]
     },
     "execution_count": 68,
     "metadata": {},
     "output_type": "execute_result"
    },
    {
     "data": {
      "image/png": "[encoded data removed]",
      "text/plain": [
       "<Figure size 640x480 with 1 Axes>"
      ]
     },
     "metadata": {},
     "output_type": "display_data"
    }
   ],
   "source": [
    "ax = whas500['fstat'].value_counts().plot(kind='bar', color=['red', 'green'])\n",
    "ax.set_title('Tote vs. lebende Patienten')\n",
    "ax.set_ylabel('Anzahl')\n",
    "ax.set_xlabel(None)\n",
    "ax.set_xticklabels(['Tot', 'Lebendig'])"
   ]
  },
  {
   "cell_type": "code",
   "execution_count": 69,
   "id": "b8eb5309-6af9-4c9e-8851-df352e244cea",
   "metadata": {},
   "outputs": [
    {
     "name": "stdout",
     "output_type": "stream",
     "text": [
      "57.00% tot vs. 43.00% lebendig\n"
     ]
    }
   ],
   "source": [
    "dead_or_alive = whas500['fstat'].value_counts().to_frame().reset_index()\n",
    "is_dead = (dead_or_alive['fstat'] == 0)\n",
    "dead_percentage = (dead_or_alive[is_dead]['count'].values[0] / 500) * 100\n",
    "alive_percentage = (dead_or_alive[~is_dead]['count'].values[0] / 500) * 100\n",
    "print(f'{dead_percentage:.2f}% tot vs. {alive_percentage:.2f}% lebendig')\n"
   ]
  },
  {
   "cell_type": "code",
   "execution_count": 70,
   "id": "1aebb6f5-efbd-4aa9-b4da-55dd343d3475",
   "metadata": {},
   "outputs": [
    {
     "data": {
      "text/plain": [
       "[]"
      ]
     },
     "execution_count": 70,
     "metadata": {},
     "output_type": "execute_result"
    },
    {
     "data": {
      "image/png": "[encoded data removed]",
      "text/plain": [
       "<Figure size 640x480 with 1 Axes>"
      ]
     },
     "metadata": {},
     "output_type": "display_data"
    }
   ],
   "source": [
    "\n",
    "whas25 = whas500.sample(n=25)\n",
    "lifetimes_ax = plot_lifetimes(whas25['lenfol'], event_observed=whas25['fstat'])\n",
    "lifetimes_ax.set_yticks([])"
   ]
  },
  {
   "cell_type": "markdown",
   "id": "c48f1f99-ba81-4c43-855d-5edd3989dcf6",
   "metadata": {},
   "source": [
    "## Kaplan-Meier-Schätzer\n",
    "\n",
    "Der **Kaplan-Meier-Schätzer** (auch Produkt-Grenzwert-Schätzer, kurz: PGS) dient zum Schätzen der Wahrscheinlichkeit, dass bei einem Versuchsobjekt ein bestimmtes Ereignis innerhalb eines Zeitintervalls nicht eintritt. Es handelt sich um eine nichtparametrische Schätzung der Überlebensfunktion im Rahmen der Ereigniszeitanalyse. Die zu Grunde liegenden Daten können rechts-zensiert sein. Diese Methode wurde 1958 von Edward L. Kaplan und Paul Meier entwickelt.\n",
    "\n",
    "Quelle: https://de.wikipedia.org/wiki/Kaplan-Meier-Sch%C3%A4tzer"
   ]
  },
  {
   "cell_type": "code",
   "execution_count": 71,
   "id": "0d6b91e1-f83d-4442-b0cb-0ca9f1814390",
   "metadata": {},
   "outputs": [],
   "source": [
    "from lifelines import KaplanMeierFitter\n",
    "kmf = KaplanMeierFitter()"
   ]
  },
  {
   "cell_type": "code",
   "execution_count": 72,
   "id": "f7dfd0da-8446-411c-b045-a8d392aa038f",
   "metadata": {},
   "outputs": [
    {
     "data": {
      "text/plain": [
       "<lifelines.KaplanMeierFitter:\"KM_estimate\", fitted with 500 total observations, 285 right-censored observations>"
      ]
     },
     "execution_count": 72,
     "metadata": {},
     "output_type": "execute_result"
    }
   ],
   "source": [
    "kmf.fit(whas500['lenfol'], event_observed=whas500['fstat'])"
   ]
  },
  {
   "cell_type": "code",
   "execution_count": 73,
   "id": "65863661-7b6a-4971-a0ee-f55db97d7043",
   "metadata": {},
   "outputs": [
    {
     "data": {
      "text/plain": [
       "Text(0.5, 0, 'Tage seit Erstaufnahme im Krankenhaus')"
      ]
     },
     "execution_count": 73,
     "metadata": {},
     "output_type": "execute_result"
    },
    {
     "data": {
      "image/png": "[encoded data removed]",
      "text/plain": [
       "<Figure size 640x480 with 1 Axes>"
      ]
     },
     "metadata": {},
     "output_type": "display_data"
    }
   ],
   "source": [
    "ax = kmf.plot_survival_function()\n",
    "ax.set_title('Kaplan-Meier Schätzer')\n",
    "ax.set_ylabel('Überlebenswahrscheinlichkeit')\n",
    "ax.set_xlabel('Tage seit Erstaufnahme im Krankenhaus')"
   ]
  },
  {
   "cell_type": "code",
   "execution_count": 74,
   "id": "67e99654-e160-46fe-96c1-d49aae38fa8b",
   "metadata": {},
   "outputs": [],
   "source": [
    "def median_survival_info(median_survival_in_days):\n",
    "    years, days_ = divmod(median_survival_in_days, 365)\n",
    "    months, _ = divmod(days_, 30)\n",
    "    return f'Median überlebenswahrscheinlichkeit beträgt {kmf.median_survival_time_} Tage (ca. {years} Jahre und {months} Monate)'"
   ]
  },
  {
   "cell_type": "code",
   "execution_count": 75,
   "id": "e02e8a9d-b8f4-48a2-86f9-6cd2b0e93cfa",
   "metadata": {},
   "outputs": [
    {
     "name": "stdout",
     "output_type": "stream",
     "text": [
      "Median überlebenswahrscheinlichkeit beträgt 1627.0 Tage (ca. 4.0 Jahre und 5.0 Monate)\n"
     ]
    }
   ],
   "source": [
    "print(median_survival_info(kmf.median_survival_time_))"
   ]
  },
  {
   "cell_type": "markdown",
   "id": "f8a09b8c-312a-4f46-a40b-1579d82f7fa1",
   "metadata": {},
   "source": [
    "Nun stelle ich mir die Frage (ich bin kein Mediziner), wie hier die Gegenüberstellung aussieht, wenn ich die Einteilung =< 50 Jahre vs. > 50 Jahre vornehme.\n"
   ]
  },
  {
   "cell_type": "code",
   "execution_count": 76,
   "id": "eb493146-09f8-48b3-b9d7-3a238a79d059",
   "metadata": {
    "jupyter": {
     "source_hidden": true
    }
   },
   "outputs": [
    {
     "data": {
      "image/png": "[encoded data removed]",
      "text/plain": [
       "<Figure size 640x480 with 1 Axes>"
      ]
     },
     "metadata": {},
     "output_type": "display_data"
    }
   ],
   "source": [
    "ax = plt.subplot(111)\n",
    "\n",
    "patients_up_to_fivty = (whas500['age'] <= 50)\n",
    "\n",
    "kmf.fit(whas500[patients_up_to_fivty]['lenfol'], event_observed=whas500[patients_up_to_fivty]['fstat'], label='Patienten zwischen 30 und 50')\n",
    "kmf.plot_survival_function(ax=ax)\n",
    "median_survial_message_up_to_fivty = median_survival_info(kmf.median_survival_time_)\n",
    "\n",
    "kmf.fit(whas500[~patients_up_to_fivty]['lenfol'], event_observed=whas500[~patients_up_to_fivty]['fstat'], label='Patienten über 50')\n",
    "kmf.plot_survival_function(ax=ax)\n",
    "median_survial_message_over_fivty = median_survival_info(kmf.median_survival_time_)\n",
    "\n",
    "plt.title('Überlebenswahrscheintlichkeit bezüglich unterschiedlichem Lebensabschnitt');"
   ]
  },
  {
   "cell_type": "code",
   "execution_count": 77,
   "id": "ba7ae2b0-dd72-40e3-85b8-70ab344eedff",
   "metadata": {},
   "outputs": [
    {
     "name": "stdout",
     "output_type": "stream",
     "text": [
      "Patienten bis 50 Jahre:\n",
      "Median überlebenswahrscheinlichkeit beträgt 2358.0 Tage (ca. 6.0 Jahre und 5.0 Monate)\n",
      "\n",
      "Patienten über 50 Jahre:\n",
      "Median überlebenswahrscheinlichkeit beträgt 1527.0 Tage (ca. 4.0 Jahre und 2.0 Monate)\n"
     ]
    }
   ],
   "source": [
    "print('Patienten bis 50 Jahre:')\n",
    "print(median_survial_message_up_to_fivty)\n",
    "print('\\nPatienten über 50 Jahre:')\n",
    "print(median_survial_message_over_fivty)\n"
   ]
  },
  {
   "cell_type": "markdown",
   "id": "fa9ab7b5-06e8-4571-934f-c30d488acbe4",
   "metadata": {},
   "source": [
    "## Cox-Regression\n",
    "Die **Cox-Regression** ist eine statistische Methode, mittels welcher der Einfluss von unabhängigne Variablen (Numerisch sowie kategorial) auf die Überlebenswahrscheinlichkeit zu prüfen.\n",
    "\n",
    "Hilfreiche Links:\n",
    "- https://de.wikipedia.org/wiki/Cox-Regression\n",
    "- https://datatab.de/tutorial/cox-regression\n",
    "- https://www.r-bloggers.com/2016/12/cox-proportional-hazards-model/\n",
    "- https://lifelines.readthedocs.io/en/latest/Survival%20Regression.html"
   ]
  },
  {
   "cell_type": "code",
   "execution_count": 78,
   "id": "6b5a41d9-9da4-4425-b4ea-4d30a4e77021",
   "metadata": {},
   "outputs": [],
   "source": [
    "from lifelines import CoxPHFitter"
   ]
  },
  {
   "cell_type": "code",
   "execution_count": 79,
   "id": "052756a5-8ed9-491a-888f-9ea6c5328ae5",
   "metadata": {},
   "outputs": [
    {
     "data": {
      "text/plain": [
       "<lifelines.CoxPHFitter: fitted with 500 total observations, 285 right-censored observations>"
      ]
     },
     "execution_count": 79,
     "metadata": {},
     "output_type": "execute_result"
    }
   ],
   "source": [
    "cph = CoxPHFitter()\n",
    "cph.fit(whas500, duration_col='lenfol', event_col='fstat', formula='bmi + age + gender + year + hr')"
   ]
  },
  {
   "cell_type": "code",
   "execution_count": 80,
   "id": "3daf772b-b21f-44c2-b8f7-43063e47d588",
   "metadata": {},
   "outputs": [
    {
     "data": {
      "text/html": [
       "<div>\n",
       "<style scoped>\n",
       "    .dataframe tbody tr th:only-of-type {\n",
       "        vertical-align: middle;\n",
       "    }\n",
       "\n",
       "    .dataframe tbody tr th {\n",
       "        vertical-align: top;\n",
       "    }\n",
       "\n",
       "    .dataframe thead th {\n",
       "        text-align: right;\n",
       "    }\n",
       "</style>\n",
       "<table border=\"1\" class=\"dataframe\">\n",
       "  <tbody>\n",
       "    <tr>\n",
       "      <th>model</th>\n",
       "      <td>lifelines.CoxPHFitter</td>\n",
       "    </tr>\n",
       "    <tr>\n",
       "      <th>duration col</th>\n",
       "      <td>'lenfol'</td>\n",
       "    </tr>\n",
       "    <tr>\n",
       "      <th>event col</th>\n",
       "      <td>'fstat'</td>\n",
       "    </tr>\n",
       "    <tr>\n",
       "      <th>baseline estimation</th>\n",
       "      <td>breslow</td>\n",
       "    </tr>\n",
       "    <tr>\n",
       "      <th>number of observations</th>\n",
       "      <td>500</td>\n",
       "    </tr>\n",
       "    <tr>\n",
       "      <th>number of events observed</th>\n",
       "      <td>215</td>\n",
       "    </tr>\n",
       "    <tr>\n",
       "      <th>partial log-likelihood</th>\n",
       "      <td>-1139.47</td>\n",
       "    </tr>\n",
       "    <tr>\n",
       "      <th>time fit was run</th>\n",
       "      <td>2025-09-01 18:40:15 UTC</td>\n",
       "    </tr>\n",
       "  </tbody>\n",
       "</table>\n",
       "</div><table border=\"1\" class=\"dataframe\">\n",
       "  <thead>\n",
       "    <tr style=\"text-align: right;\">\n",
       "      <th style=\"min-width: 12px;\"></th>\n",
       "      <th style=\"min-width: 12px;\">coef</th>\n",
       "      <th style=\"min-width: 12px;\">exp(coef)</th>\n",
       "      <th style=\"min-width: 12px;\">se(coef)</th>\n",
       "      <th style=\"min-width: 12px;\">coef lower 95%</th>\n",
       "      <th style=\"min-width: 12px;\">coef upper 95%</th>\n",
       "      <th style=\"min-width: 12px;\">exp(coef) lower 95%</th>\n",
       "      <th style=\"min-width: 12px;\">exp(coef) upper 95%</th>\n",
       "      <th style=\"min-width: 12px;\">cmp to</th>\n",
       "      <th style=\"min-width: 12px;\">z</th>\n",
       "      <th style=\"min-width: 12px;\">p</th>\n",
       "      <th style=\"min-width: 12px;\">-log2(p)</th>\n",
       "    </tr>\n",
       "  </thead>\n",
       "  <tbody>\n",
       "    <tr>\n",
       "      <th>bmi</th>\n",
       "      <td>-0.04</td>\n",
       "      <td>0.96</td>\n",
       "      <td>0.02</td>\n",
       "      <td>-0.08</td>\n",
       "      <td>-0.01</td>\n",
       "      <td>0.93</td>\n",
       "      <td>0.99</td>\n",
       "      <td>0.00</td>\n",
       "      <td>-2.84</td>\n",
       "      <td>&lt;0.005</td>\n",
       "      <td>7.79</td>\n",
       "    </tr>\n",
       "    <tr>\n",
       "      <th>age</th>\n",
       "      <td>0.06</td>\n",
       "      <td>1.06</td>\n",
       "      <td>0.01</td>\n",
       "      <td>0.05</td>\n",
       "      <td>0.07</td>\n",
       "      <td>1.05</td>\n",
       "      <td>1.07</td>\n",
       "      <td>0.00</td>\n",
       "      <td>8.98</td>\n",
       "      <td>&lt;0.005</td>\n",
       "      <td>61.70</td>\n",
       "    </tr>\n",
       "    <tr>\n",
       "      <th>gender</th>\n",
       "      <td>-0.16</td>\n",
       "      <td>0.85</td>\n",
       "      <td>0.14</td>\n",
       "      <td>-0.44</td>\n",
       "      <td>0.12</td>\n",
       "      <td>0.65</td>\n",
       "      <td>1.13</td>\n",
       "      <td>0.00</td>\n",
       "      <td>-1.12</td>\n",
       "      <td>0.26</td>\n",
       "      <td>1.93</td>\n",
       "    </tr>\n",
       "    <tr>\n",
       "      <th>year</th>\n",
       "      <td>0.26</td>\n",
       "      <td>1.29</td>\n",
       "      <td>0.10</td>\n",
       "      <td>0.06</td>\n",
       "      <td>0.45</td>\n",
       "      <td>1.07</td>\n",
       "      <td>1.57</td>\n",
       "      <td>0.00</td>\n",
       "      <td>2.62</td>\n",
       "      <td>0.01</td>\n",
       "      <td>6.85</td>\n",
       "    </tr>\n",
       "    <tr>\n",
       "      <th>hr</th>\n",
       "      <td>0.01</td>\n",
       "      <td>1.01</td>\n",
       "      <td>0.00</td>\n",
       "      <td>0.01</td>\n",
       "      <td>0.02</td>\n",
       "      <td>1.01</td>\n",
       "      <td>1.02</td>\n",
       "      <td>0.00</td>\n",
       "      <td>4.23</td>\n",
       "      <td>&lt;0.005</td>\n",
       "      <td>15.40</td>\n",
       "    </tr>\n",
       "  </tbody>\n",
       "</table><br><div>\n",
       "<style scoped>\n",
       "    .dataframe tbody tr th:only-of-type {\n",
       "        vertical-align: middle;\n",
       "    }\n",
       "\n",
       "    .dataframe tbody tr th {\n",
       "        vertical-align: top;\n",
       "    }\n",
       "\n",
       "    .dataframe thead th {\n",
       "        text-align: right;\n",
       "    }\n",
       "</style>\n",
       "<table border=\"1\" class=\"dataframe\">\n",
       "  <tbody>\n",
       "    <tr>\n",
       "      <th>Concordance</th>\n",
       "      <td>0.75</td>\n",
       "    </tr>\n",
       "    <tr>\n",
       "      <th>Partial AIC</th>\n",
       "      <td>2288.93</td>\n",
       "    </tr>\n",
       "    <tr>\n",
       "      <th>log-likelihood ratio test</th>\n",
       "      <td>175.71 on 5 df</td>\n",
       "    </tr>\n",
       "    <tr>\n",
       "      <th>-log2(p) of ll-ratio test</th>\n",
       "      <td>117.45</td>\n",
       "    </tr>\n",
       "  </tbody>\n",
       "</table>\n",
       "</div>"
      ],
      "text/latex": [
       "\\begin{tabular}{lrrrrrrrrrrr}\n",
       " & coef & exp(coef) & se(coef) & coef lower 95% & coef upper 95% & exp(coef) lower 95% & exp(coef) upper 95% & cmp to & z & p & -log2(p) \\\\\n",
       "covariate &  &  &  &  &  &  &  &  &  &  &  \\\\\n",
       "bmi & -0.04 & 0.96 & 0.02 & -0.08 & -0.01 & 0.93 & 0.99 & 0.00 & -2.84 & 0.00 & 7.79 \\\\\n",
       "age & 0.06 & 1.06 & 0.01 & 0.05 & 0.07 & 1.05 & 1.07 & 0.00 & 8.98 & 0.00 & 61.70 \\\\\n",
       "gender & -0.16 & 0.85 & 0.14 & -0.44 & 0.12 & 0.65 & 1.13 & 0.00 & -1.12 & 0.26 & 1.93 \\\\\n",
       "year & 0.26 & 1.29 & 0.10 & 0.06 & 0.45 & 1.07 & 1.57 & 0.00 & 2.62 & 0.01 & 6.85 \\\\\n",
       "hr & 0.01 & 1.01 & 0.00 & 0.01 & 0.02 & 1.01 & 1.02 & 0.00 & 4.23 & 0.00 & 15.40 \\\\\n",
       "\\end{tabular}\n"
      ],
      "text/plain": [
       "<lifelines.CoxPHFitter: fitted with 500 total observations, 285 right-censored observations>\n",
       "             duration col = 'lenfol'\n",
       "                event col = 'fstat'\n",
       "      baseline estimation = breslow\n",
       "   number of observations = 500\n",
       "number of events observed = 215\n",
       "   partial log-likelihood = -1139.47\n",
       "         time fit was run = 2025-09-01 18:40:15 UTC\n",
       "\n",
       "---\n",
       "           coef exp(coef)  se(coef)  coef lower 95%  coef upper 95% exp(coef) lower 95% exp(coef) upper 95%\n",
       "covariate                                                                                                  \n",
       "bmi       -0.04      0.96      0.02           -0.08           -0.01                0.93                0.99\n",
       "age        0.06      1.06      0.01            0.05            0.07                1.05                1.07\n",
       "gender    -0.16      0.85      0.14           -0.44            0.12                0.65                1.13\n",
       "year       0.26      1.29      0.10            0.06            0.45                1.07                1.57\n",
       "hr         0.01      1.01      0.00            0.01            0.02                1.01                1.02\n",
       "\n",
       "           cmp to     z      p  -log2(p)\n",
       "covariate                               \n",
       "bmi          0.00 -2.84 <0.005      7.79\n",
       "age          0.00  8.98 <0.005     61.70\n",
       "gender       0.00 -1.12   0.26      1.93\n",
       "year         0.00  2.62   0.01      6.85\n",
       "hr           0.00  4.23 <0.005     15.40\n",
       "---\n",
       "Concordance = 0.75\n",
       "Partial AIC = 2288.93\n",
       "log-likelihood ratio test = 175.71 on 5 df\n",
       "-log2(p) of ll-ratio test = 117.45"
      ]
     },
     "metadata": {},
     "output_type": "display_data"
    }
   ],
   "source": [
    "cph.print_summary()"
   ]
  },
  {
   "cell_type": "markdown",
   "id": "ae0da472-3076-45a4-9d43-baf0bdde6df1",
   "metadata": {},
   "source": [
    "### Interpretation der Ergebnisse\n",
    "\n",
    "Siehe: https://lifelines.readthedocs.io/en/latest/Survival%20Regression.html#interpretation\n",
    "\n",
    "Die folgend aufgeführten Variablen wurden für die Regressionsanalyse gewählt. \n",
    "\n",
    "| Variable |\tName\t| Description\t\t|        Codes / Values |\n",
    "|----------|------------|-------------------|-----------------------|\n",
    "|2\t\t|age\t\t|Age at Hospital Admission\t\t|Years|\n",
    "|3 \t\t|gender\t\t|Gender \t\t\t\t\t|0 = Male, 1 = Female|\n",
    "|4 \t\t|hr\t\t|Initial Heart Rate\t\t\t|Beats per minute|\n",
    "|7 \t\t|bmi\t\t|Body Mass Index\t\t\t \t|kg/m^2|\n",
    "|15\t\t|year\t\t|Cohort Year\t\t\t|\t1 = 1997, 2 = 1999, 3 = 2001|\t\t\n",
    "\n",
    "Eine statistische Signifikanz weisen dabei besonders der BMI (bmi), das Alter (age) sowie die Herzfrequenz (hr) auf.\n",
    "\n"
   ]
  },
  {
   "cell_type": "code",
   "execution_count": 81,
   "id": "943908a2-e8dc-42d0-bff0-a5a824554a68",
   "metadata": {},
   "outputs": [
    {
     "data": {
      "text/plain": [
       "<Axes: xlabel='log(HR) (95% CI)'>"
      ]
     },
     "execution_count": 81,
     "metadata": {},
     "output_type": "execute_result"
    },
    {
     "data": {
      "image/png": "[encoded data removed]",
      "text/plain": [
       "<Figure size 640x480 with 1 Axes>"
      ]
     },
     "metadata": {},
     "output_type": "display_data"
    }
   ],
   "source": [
    "cph.plot()"
   ]
  },
  {
   "cell_type": "code",
   "execution_count": null,
   "id": "9df47404-3c33-46b4-bb76-1e487b7fca7a",
   "metadata": {},
   "outputs": [],
   "source": []
  },
  {
   "cell_type": "code",
   "execution_count": null,
   "id": "cad10d57-123f-4627-9356-41e9935af955",
   "metadata": {},
   "outputs": [],
   "source": []
  }
 ],
 "metadata": {
  "kernelspec": {
   "display_name": "Python 3 (ipykernel)",
   "language": "python",
   "name": "python3"
  },
  "language_info": {
   "codemirror_mode": {
    "name": "ipython",
    "version": 3
   },
   "file_extension": ".py",
   "mimetype": "text/x-python",
   "name": "python",
   "nbconvert_exporter": "python",
   "pygments_lexer": "ipython3",
   "version": "3.11.13"
  }
 },
 "nbformat": 4,
 "nbformat_minor": 5
}
